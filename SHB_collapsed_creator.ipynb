{
 "cells": [
  {
   "cell_type": "code",
   "execution_count": 27,
   "id": "e6b1706d-9495-4567-9cf0-bfd9328782c9",
   "metadata": {},
   "outputs": [],
   "source": [
    "import pandas as pd\n",
    "nuovo = pd.read_stata(\"../dati/td_ita.dta\")\n",
    "nuovo = nuovo[nuovo['first2w'].isin(['First two weeks'])]"
   ]
  },
  {
   "cell_type": "code",
   "execution_count": 30,
   "id": "6f564b2e-6392-468c-8010-b57e41cc28be",
   "metadata": {
    "scrolled": false,
    "tags": []
   },
   "outputs": [
    {
     "data": {
      "text/plain": [
       "1976"
      ]
     },
     "execution_count": 30,
     "metadata": {},
     "output_type": "execute_result"
    }
   ],
   "source": [
    "pri = set()\n",
    "for el in nuovo.what:\n",
    "    pri.add(el)\n",
    "    \n",
    "sum(nuovo.what == 'Walking')"
   ]
  },
  {
   "cell_type": "code",
   "execution_count": 40,
   "id": "29759b88-cb2b-437f-8ce3-5bc78a54921a",
   "metadata": {
    "tags": []
   },
   "outputs": [],
   "source": [
    "nuovo = nuovo[['id', 'date_not','what', 'withw', 'where']]\n",
    "nuovo.id = nuovo.id.astype(int)\n",
    "nuovo = nuovo[(nuovo['what'] == 'Sport')  |  (nuovo['what'] == 'Walking')] #| nuovo['what'] == ]"
   ]
  },
  {
   "cell_type": "code",
   "execution_count": 45,
   "id": "b5034e5a",
   "metadata": {},
   "outputs": [
    {
     "data": {
      "text/html": [
       "<div>\n",
       "<style scoped>\n",
       "    .dataframe tbody tr th:only-of-type {\n",
       "        vertical-align: middle;\n",
       "    }\n",
       "\n",
       "    .dataframe tbody tr th {\n",
       "        vertical-align: top;\n",
       "    }\n",
       "\n",
       "    .dataframe thead th {\n",
       "        text-align: right;\n",
       "    }\n",
       "</style>\n",
       "<table border=\"1\" class=\"dataframe\">\n",
       "  <thead>\n",
       "    <tr style=\"text-align: right;\">\n",
       "      <th></th>\n",
       "      <th>id</th>\n",
       "      <th>date_not</th>\n",
       "      <th>what</th>\n",
       "      <th>withw</th>\n",
       "      <th>where</th>\n",
       "      <th>time_diff</th>\n",
       "    </tr>\n",
       "  </thead>\n",
       "  <tbody>\n",
       "    <tr>\n",
       "      <th>150408</th>\n",
       "      <td>148</td>\n",
       "      <td>2020-11-13 09:00:00</td>\n",
       "      <td>Walking</td>\n",
       "      <td>Other</td>\n",
       "      <td>In the street</td>\n",
       "      <td>NaT</td>\n",
       "    </tr>\n",
       "    <tr>\n",
       "      <th>52376</th>\n",
       "      <td>53</td>\n",
       "      <td>2020-11-13 09:00:00</td>\n",
       "      <td>Sport</td>\n",
       "      <td>Alone</td>\n",
       "      <td>Countryside/mountain/hill/beach</td>\n",
       "      <td>0 days 00:00:00</td>\n",
       "    </tr>\n",
       "    <tr>\n",
       "      <th>90252</th>\n",
       "      <td>89</td>\n",
       "      <td>2020-11-13 09:00:00</td>\n",
       "      <td>Sport</td>\n",
       "      <td>Friend(s)</td>\n",
       "      <td>Countryside/mountain/hill/beach</td>\n",
       "      <td>0 days 00:00:00</td>\n",
       "    </tr>\n",
       "    <tr>\n",
       "      <th>33438</th>\n",
       "      <td>33</td>\n",
       "      <td>2020-11-13 09:00:00</td>\n",
       "      <td>Walking</td>\n",
       "      <td>Friend(s)</td>\n",
       "      <td>In the street</td>\n",
       "      <td>0 days 00:00:00</td>\n",
       "    </tr>\n",
       "    <tr>\n",
       "      <th>170461</th>\n",
       "      <td>169</td>\n",
       "      <td>2020-11-13 09:30:00</td>\n",
       "      <td>Walking</td>\n",
       "      <td>Alone</td>\n",
       "      <td>Home garden/patio/courtyard</td>\n",
       "      <td>0 days 00:30:00</td>\n",
       "    </tr>\n",
       "    <tr>\n",
       "      <th>...</th>\n",
       "      <td>...</td>\n",
       "      <td>...</td>\n",
       "      <td>...</td>\n",
       "      <td>...</td>\n",
       "      <td>...</td>\n",
       "      <td>...</td>\n",
       "    </tr>\n",
       "    <tr>\n",
       "      <th>184656</th>\n",
       "      <td>185</td>\n",
       "      <td>2020-11-30 20:00:00</td>\n",
       "      <td>Sport</td>\n",
       "      <td>Alone</td>\n",
       "      <td>Home apartment /room</td>\n",
       "      <td>0 days 00:00:00</td>\n",
       "    </tr>\n",
       "    <tr>\n",
       "      <th>76599</th>\n",
       "      <td>75</td>\n",
       "      <td>2020-11-30 21:00:00</td>\n",
       "      <td>Sport</td>\n",
       "      <td>Alone</td>\n",
       "      <td>Relatives Home</td>\n",
       "      <td>0 days 01:00:00</td>\n",
       "    </tr>\n",
       "    <tr>\n",
       "      <th>245927</th>\n",
       "      <td>243</td>\n",
       "      <td>2020-11-30 21:00:00</td>\n",
       "      <td>Walking</td>\n",
       "      <td>Other</td>\n",
       "      <td>Another outdoor place</td>\n",
       "      <td>0 days 00:00:00</td>\n",
       "    </tr>\n",
       "    <tr>\n",
       "      <th>210279</th>\n",
       "      <td>209</td>\n",
       "      <td>2020-11-30 21:00:00</td>\n",
       "      <td>Walking</td>\n",
       "      <td>Friend(s)</td>\n",
       "      <td>In the street</td>\n",
       "      <td>0 days 00:00:00</td>\n",
       "    </tr>\n",
       "    <tr>\n",
       "      <th>102222</th>\n",
       "      <td>99</td>\n",
       "      <td>2020-11-30 22:00:00</td>\n",
       "      <td>Sport</td>\n",
       "      <td>Alone</td>\n",
       "      <td>Home apartment /room</td>\n",
       "      <td>0 days 01:00:00</td>\n",
       "    </tr>\n",
       "  </tbody>\n",
       "</table>\n",
       "<p>3409 rows × 6 columns</p>\n",
       "</div>"
      ],
      "text/plain": [
       "         id            date_not     what      withw  \\\n",
       "150408  148 2020-11-13 09:00:00  Walking      Other   \n",
       "52376    53 2020-11-13 09:00:00    Sport      Alone   \n",
       "90252    89 2020-11-13 09:00:00    Sport  Friend(s)   \n",
       "33438    33 2020-11-13 09:00:00  Walking  Friend(s)   \n",
       "170461  169 2020-11-13 09:30:00  Walking      Alone   \n",
       "...     ...                 ...      ...        ...   \n",
       "184656  185 2020-11-30 20:00:00    Sport      Alone   \n",
       "76599    75 2020-11-30 21:00:00    Sport      Alone   \n",
       "245927  243 2020-11-30 21:00:00  Walking      Other   \n",
       "210279  209 2020-11-30 21:00:00  Walking  Friend(s)   \n",
       "102222   99 2020-11-30 22:00:00    Sport      Alone   \n",
       "\n",
       "                                  where       time_diff  \n",
       "150408                    In the street             NaT  \n",
       "52376   Countryside/mountain/hill/beach 0 days 00:00:00  \n",
       "90252   Countryside/mountain/hill/beach 0 days 00:00:00  \n",
       "33438                     In the street 0 days 00:00:00  \n",
       "170461      Home garden/patio/courtyard 0 days 00:30:00  \n",
       "...                                 ...             ...  \n",
       "184656             Home apartment /room 0 days 00:00:00  \n",
       "76599                    Relatives Home 0 days 01:00:00  \n",
       "245927            Another outdoor place 0 days 00:00:00  \n",
       "210279                    In the street 0 days 00:00:00  \n",
       "102222             Home apartment /room 0 days 01:00:00  \n",
       "\n",
       "[3409 rows x 6 columns]"
      ]
     },
     "execution_count": 45,
     "metadata": {},
     "output_type": "execute_result"
    }
   ],
   "source": [
    "df"
   ]
  },
  {
   "cell_type": "code",
   "execution_count": 43,
   "id": "56c43c5a-0e1b-43f0-8b6f-435329b27a39",
   "metadata": {
    "tags": []
   },
   "outputs": [],
   "source": [
    "df = nuovo\n",
    "df['date_not'] = pd.to_datetime(df['date_not'])\n",
    "df = df.sort_values('date_not')\n",
    "df['time_diff'] = df['date_not'].diff()\n",
    "new_session = (df['time_diff'] > pd.Timedelta(minutes=30)) | df['time_diff'].isnull()\n",
    "session_id = new_session.cumsum()"
   ]
  },
  {
   "cell_type": "code",
   "execution_count": null,
   "id": "9b5e98b1",
   "metadata": {},
   "outputs": [],
   "source": []
  },
  {
   "cell_type": "code",
   "execution_count": 55,
   "id": "396193dc",
   "metadata": {},
   "outputs": [],
   "source": [
    "grouped = df.groupby(['id', session_id])\n",
    "collapsed_sessions = grouped.agg(\n",
    "    start_time=('date_not', 'first'),\n",
    "    end_time=('date_not', 'last'),\n",
    "    duration=('date_not', lambda x: ((x.max() - x.min()).total_seconds() / 60)+30),\n",
    "    where=('where', 'first'),\n",
    "    what=('what', 'last')\n",
    ").reset_index()"
   ]
  },
  {
   "cell_type": "code",
   "execution_count": 81,
   "id": "4be69268",
   "metadata": {},
   "outputs": [
    {
     "data": {
      "text/plain": [
       "<Axes: >"
      ]
     },
     "execution_count": 81,
     "metadata": {},
     "output_type": "execute_result"
    },
    {
     "data": {
      "image/png": "[encoded data removed]",
      "text/plain": [
       "<Figure size 640x480 with 1 Axes>"
      ]
     },
     "metadata": {},
     "output_type": "display_data"
    }
   ],
   "source": [
    "collapsed_sessions[(collapsed_sessions.what == 'Walking') & (collapsed_sessions.duration > collapsed_sessions.duration.mean())].duration.hist()"
   ]
  },
  {
   "cell_type": "code",
   "execution_count": 74,
   "id": "6a0d8c71",
   "metadata": {},
   "outputs": [
    {
     "data": {
      "text/plain": [
       "128.7015945330296"
      ]
     },
     "execution_count": 74,
     "metadata": {},
     "output_type": "execute_result"
    }
   ],
   "source": []
  },
  {
   "cell_type": "code",
   "execution_count": 82,
   "id": "76967563-04be-4b14-8ae1-14139549cf7d",
   "metadata": {},
   "outputs": [],
   "source": [
    "collapsed_sessions.to_csv(\"sport_activity_sessions_collapsed.csv\")"
   ]
  }
 ],
 "metadata": {
  "kernelspec": {
   "display_name": "Python 3 (ipykernel)",
   "language": "python",
   "name": "python3"
  },
  "language_info": {
   "codemirror_mode": {
    "name": "ipython",
    "version": 3
   },
   "file_extension": ".py",
   "mimetype": "text/x-python",
   "name": "python",
   "nbconvert_exporter": "python",
   "pygments_lexer": "ipython3",
   "version": "3.11.5"
  }
 },
 "nbformat": 4,
 "nbformat_minor": 5
}
