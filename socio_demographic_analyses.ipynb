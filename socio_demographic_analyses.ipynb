{
 "cells": [
  {
   "cell_type": "code",
   "execution_count": 20,
   "outputs": [],
   "source": [
    "# import the libraries for the visualization\n",
    "import pandas as pd\n",
    "import seaborn as sns\n",
    "import matplotlib.pyplot as plt\n",
    "import numpy as np\n",
    "import random\n",
    "\n",
    "# import the libraries to perform the regression model\n",
    "from scipy.stats import chi2_contingency\n",
    "from sklearn import linear_model\n",
    "from sklearn.model_selection import GridSearchCV\n",
    "from imblearn.over_sampling import SMOTE\n",
    "from imblearn.under_sampling import TomekLinks\n",
    "from imblearn.pipeline import make_pipeline\n",
    "import statsmodels.api as sm\n",
    "from sklearn.metrics import mean_absolute_error, mean_squared_error, r2_score\n",
    "\n",
    "import warnings\n",
    "from sklearn.exceptions import ConvergenceWarning\n",
    "from sklearn.metrics import accuracy_score, precision_score, recall_score, f1_score, roc_auc_score\n",
    "\n",
    "warnings.filterwarnings(\"ignore\", category=ConvergenceWarning)"
   ],
   "metadata": {
    "collapsed": false
   }
  },
  {
   "cell_type": "code",
   "execution_count": 21,
   "outputs": [],
   "source": [
    "# load the dataset\n",
    "dataset = pd.read_csv('data/sport_sessionformat.csv')\n",
    "activity_dataset = pd.read_csv('data/step_sport_activity.csv')"
   ],
   "metadata": {
    "collapsed": false
   }
  },
  {
   "cell_type": "code",
   "execution_count": 22,
   "outputs": [
    {
     "data": {
      "text/plain": "   Unnamed: 0 type of activity location  company degree  \\\n0           0          Walking  outdoor  company    MSc   \n1           1          Walking  outdoor  company    MSc   \n2           2          Walking  outdoor  company    MSc   \n3           3          Walking  outdoor  company    MSc   \n4           4          Walking  outdoor  company    MSc   \n\n                         department  \\\n0  Engineering and Applied Sciences   \n1  Engineering and Applied Sciences   \n2  Engineering and Applied Sciences   \n3  Engineering and Applied Sciences   \n4  Engineering and Applied Sciences   \n\n                                        neighborhood     sex  \n0  Trento South (Bolghera/Clarina/San Bartolomeo/...  Female  \n1  Trento South (Bolghera/Clarina/San Bartolomeo/...  Female  \n2  Trento South (Bolghera/Clarina/San Bartolomeo/...  Female  \n3  Trento South (Bolghera/Clarina/San Bartolomeo/...  Female  \n4  Trento South (Bolghera/Clarina/San Bartolomeo/...  Female  ",
      "text/html": "<div>\n<style scoped>\n    .dataframe tbody tr th:only-of-type {\n        vertical-align: middle;\n    }\n\n    .dataframe tbody tr th {\n        vertical-align: top;\n    }\n\n    .dataframe thead th {\n        text-align: right;\n    }\n</style>\n<table border=\"1\" class=\"dataframe\">\n  <thead>\n    <tr style=\"text-align: right;\">\n      <th></th>\n      <th>Unnamed: 0</th>\n      <th>type of activity</th>\n      <th>location</th>\n      <th>company</th>\n      <th>degree</th>\n      <th>department</th>\n      <th>neighborhood</th>\n      <th>sex</th>\n    </tr>\n  </thead>\n  <tbody>\n    <tr>\n      <th>0</th>\n      <td>0</td>\n      <td>Walking</td>\n      <td>outdoor</td>\n      <td>company</td>\n      <td>MSc</td>\n      <td>Engineering and Applied Sciences</td>\n      <td>Trento South (Bolghera/Clarina/San Bartolomeo/...</td>\n      <td>Female</td>\n    </tr>\n    <tr>\n      <th>1</th>\n      <td>1</td>\n      <td>Walking</td>\n      <td>outdoor</td>\n      <td>company</td>\n      <td>MSc</td>\n      <td>Engineering and Applied Sciences</td>\n      <td>Trento South (Bolghera/Clarina/San Bartolomeo/...</td>\n      <td>Female</td>\n    </tr>\n    <tr>\n      <th>2</th>\n      <td>2</td>\n      <td>Walking</td>\n      <td>outdoor</td>\n      <td>company</td>\n      <td>MSc</td>\n      <td>Engineering and Applied Sciences</td>\n      <td>Trento South (Bolghera/Clarina/San Bartolomeo/...</td>\n      <td>Female</td>\n    </tr>\n    <tr>\n      <th>3</th>\n      <td>3</td>\n      <td>Walking</td>\n      <td>outdoor</td>\n      <td>company</td>\n      <td>MSc</td>\n      <td>Engineering and Applied Sciences</td>\n      <td>Trento South (Bolghera/Clarina/San Bartolomeo/...</td>\n      <td>Female</td>\n    </tr>\n    <tr>\n      <th>4</th>\n      <td>4</td>\n      <td>Walking</td>\n      <td>outdoor</td>\n      <td>company</td>\n      <td>MSc</td>\n      <td>Engineering and Applied Sciences</td>\n      <td>Trento South (Bolghera/Clarina/San Bartolomeo/...</td>\n      <td>Female</td>\n    </tr>\n  </tbody>\n</table>\n</div>"
     },
     "execution_count": 22,
     "metadata": {},
     "output_type": "execute_result"
    }
   ],
   "source": [
    "dataset.head()"
   ],
   "metadata": {
    "collapsed": false
   }
  },
  {
   "cell_type": "code",
   "execution_count": 23,
   "outputs": [
    {
     "data": {
      "text/plain": "  type of activity location  company degree                        department  \\\n0          Walking  outdoor  company    MSc  Engineering and Applied Sciences   \n1          Walking  outdoor  company    MSc  Engineering and Applied Sciences   \n2          Walking  outdoor  company    MSc  Engineering and Applied Sciences   \n3          Walking  outdoor  company    MSc  Engineering and Applied Sciences   \n4          Walking  outdoor  company    MSc  Engineering and Applied Sciences   \n\n                                        neighborhood     sex  \n0  Trento South (Bolghera/Clarina/San Bartolomeo/...  Female  \n1  Trento South (Bolghera/Clarina/San Bartolomeo/...  Female  \n2  Trento South (Bolghera/Clarina/San Bartolomeo/...  Female  \n3  Trento South (Bolghera/Clarina/San Bartolomeo/...  Female  \n4  Trento South (Bolghera/Clarina/San Bartolomeo/...  Female  ",
      "text/html": "<div>\n<style scoped>\n    .dataframe tbody tr th:only-of-type {\n        vertical-align: middle;\n    }\n\n    .dataframe tbody tr th {\n        vertical-align: top;\n    }\n\n    .dataframe thead th {\n        text-align: right;\n    }\n</style>\n<table border=\"1\" class=\"dataframe\">\n  <thead>\n    <tr style=\"text-align: right;\">\n      <th></th>\n      <th>type of activity</th>\n      <th>location</th>\n      <th>company</th>\n      <th>degree</th>\n      <th>department</th>\n      <th>neighborhood</th>\n      <th>sex</th>\n    </tr>\n  </thead>\n  <tbody>\n    <tr>\n      <th>0</th>\n      <td>Walking</td>\n      <td>outdoor</td>\n      <td>company</td>\n      <td>MSc</td>\n      <td>Engineering and Applied Sciences</td>\n      <td>Trento South (Bolghera/Clarina/San Bartolomeo/...</td>\n      <td>Female</td>\n    </tr>\n    <tr>\n      <th>1</th>\n      <td>Walking</td>\n      <td>outdoor</td>\n      <td>company</td>\n      <td>MSc</td>\n      <td>Engineering and Applied Sciences</td>\n      <td>Trento South (Bolghera/Clarina/San Bartolomeo/...</td>\n      <td>Female</td>\n    </tr>\n    <tr>\n      <th>2</th>\n      <td>Walking</td>\n      <td>outdoor</td>\n      <td>company</td>\n      <td>MSc</td>\n      <td>Engineering and Applied Sciences</td>\n      <td>Trento South (Bolghera/Clarina/San Bartolomeo/...</td>\n      <td>Female</td>\n    </tr>\n    <tr>\n      <th>3</th>\n      <td>Walking</td>\n      <td>outdoor</td>\n      <td>company</td>\n      <td>MSc</td>\n      <td>Engineering and Applied Sciences</td>\n      <td>Trento South (Bolghera/Clarina/San Bartolomeo/...</td>\n      <td>Female</td>\n    </tr>\n    <tr>\n      <th>4</th>\n      <td>Walking</td>\n      <td>outdoor</td>\n      <td>company</td>\n      <td>MSc</td>\n      <td>Engineering and Applied Sciences</td>\n      <td>Trento South (Bolghera/Clarina/San Bartolomeo/...</td>\n      <td>Female</td>\n    </tr>\n  </tbody>\n</table>\n</div>"
     },
     "execution_count": 23,
     "metadata": {},
     "output_type": "execute_result"
    }
   ],
   "source": [
    "# remove unecessary columns\n",
    "dataset = dataset.drop(['Unnamed: 0'], axis=1)\n",
    "dataset.head()"
   ],
   "metadata": {
    "collapsed": false
   }
  },
  {
   "cell_type": "markdown",
   "source": [
    "# Pre-processing & data cleaning\n",
    "all the nan values have already been dropped in the data cleaning process of the previous steps (except for the neighborhood variable, which will be considered in the following sections)"
   ],
   "metadata": {
    "collapsed": false
   }
  },
  {
   "cell_type": "code",
   "execution_count": 24,
   "outputs": [
    {
     "data": {
      "text/plain": "(844, 7)"
     },
     "execution_count": 24,
     "metadata": {},
     "output_type": "execute_result"
    }
   ],
   "source": [
    "dataset.shape"
   ],
   "metadata": {
    "collapsed": false
   }
  },
  {
   "cell_type": "markdown",
   "source": [
    "# Explanatory Data Analysis on the dataset"
   ],
   "metadata": {
    "collapsed": false
   }
  },
  {
   "cell_type": "markdown",
   "source": [
    "## Univariate analysis\n",
    "From displaying the distribution of the variable we notice that many have unbalanced classes, which is not that good unfortunately."
   ],
   "metadata": {
    "collapsed": false
   }
  },
  {
   "cell_type": "code",
   "execution_count": 25,
   "outputs": [
    {
     "data": {
      "text/plain": "<Figure size 640x480 with 1 Axes>",
      "image/png": "[encoded data removed]"
     },
     "metadata": {},
     "output_type": "display_data"
    },
    {
     "data": {
      "text/plain": "<Figure size 640x480 with 1 Axes>",
      "image/png": "[encoded data removed]"
     },
     "metadata": {},
     "output_type": "display_data"
    },
    {
     "data": {
      "text/plain": "<Figure size 640x480 with 1 Axes>",
      "image/png": "[encoded data removed]"
     },
     "metadata": {},
     "output_type": "display_data"
    }
   ],
   "source": [
    "# observe sport related variables\n",
    "variables = ['type of activity', 'location', 'company']\n",
    "\n",
    "for var in variables:\n",
    "    sns.countplot(y=var, data=dataset, orient=\"h\", color='lightblue', alpha=0.3)\n",
    "    plt.title(f\"Distribution of '{var}' variable (N={dataset[var].shape[0]})\")\n",
    "    plt.xlabel('Count')\n",
    "    plt.ylabel(var)\n",
    "    plt.yticks( fontsize='small', x=1.0, color='black')\n",
    "    plt.tight_layout\n",
    "    plt.show()"
   ],
   "metadata": {
    "collapsed": false
   }
  },
  {
   "cell_type": "markdown",
   "source": [
    "# MODEL IMPLEMENTATION\n",
    "To simplify the analyses we'll define a set of function that will be recursively used for each analysis we want to implement.\n",
    "Ath the end of the script everything is wrapped up in a single function."
   ],
   "metadata": {
    "collapsed": false
   }
  },
  {
   "cell_type": "markdown",
   "source": [
    "## functions related to the analysis of balanced/unbalanced variables\n",
    "We balance the dataset using a mixed technique. Indeed we implement:\n",
    "- SMOTE (Synthetic Minority Oversampling Technique) to oversample the minority classes. SMOTE technique works by randomly selecting an example, namely a, from the minority class and then k of its nearest neighbors are chosen. Then the algorithm draws a line from one of these new instances and, namely b, and the instance a and it generates the new synthetic instances from a convex combination of a and b.\n",
    "- Tomek Links to undersample the majority class. It is a modified Condensed Nearest Neighbors, where each pair of observations a and b is selected considering three rules:\n",
    "    - the observation’s a nearest neighbor is b.\n",
    "    - the observation’s b nearest neighbor is a.\n",
    "    - a and b belong to different classes\n",
    "\tThrough this definition of pair it is possible to find a sample of data from the majority class having the lowest Euclidean distance with the minority class and then remove it.\n"
   ],
   "metadata": {
    "collapsed": false
   }
  },
  {
   "cell_type": "code",
   "execution_count": 26,
   "outputs": [],
   "source": [
    "def get_balanced_variables(data, threshold=0.3):\n",
    "    \"\"\"\n",
    "    Function to identify variables with balanced classes (within a certain threshold).\n",
    "\n",
    "    Args:\n",
    "    - data: DataFrame containing all variables\n",
    "    - threshold: threshold to determine class balance\n",
    "\n",
    "    Returns:\n",
    "    - List of variable names with approximately balanced classes\n",
    "    \"\"\"\n",
    "    balanced_vars = []\n",
    "\n",
    "    for col in data.columns:\n",
    "\n",
    "        value_counts = data[col].value_counts(normalize=True)\n",
    "        min_class_prop = value_counts.min()\n",
    "\n",
    "        if min_class_prop >= threshold and min_class_prop <= (1 - threshold):\n",
    "            balanced_vars.append(col)\n",
    "\n",
    "    return balanced_vars\n",
    "\n",
    "# -------------------------------------------------------------------------------------\n",
    "\n",
    "def balance_dataset(X, y):\n",
    "    \"\"\"\n",
    "    Function to create a balanced dataset using a combined oversampling and undersampling technique.\n",
    "\n",
    "    Args:\n",
    "    - X: set of predictors\n",
    "    - y: target variable\n",
    "\n",
    "    Returns:\n",
    "    - X_resampled: balanced set of predictors\n",
    "    - y_resampled: balanced target variable\n",
    "    \"\"\"\n",
    "\n",
    "    # define the combination of SMOTE and TomekLinks techniques\n",
    "    combined_sampler = make_pipeline(SMOTE(random_state=42), TomekLinks())\n",
    "\n",
    "    # apply the combined_sampler function\n",
    "    X_resampled, y_resampled = combined_sampler.fit_resample(X, y)\n",
    "\n",
    "    return X_resampled, y_resampled\n",
    "\n"
   ],
   "metadata": {
    "collapsed": false
   }
  },
  {
   "cell_type": "markdown",
   "source": [
    "## functions related to the splitting process of training and test set"
   ],
   "metadata": {
    "collapsed": false
   }
  },
  {
   "cell_type": "code",
   "execution_count": 27,
   "outputs": [],
   "source": [
    "def split_dataset(predictors, y):\n",
    "    '''\n",
    "    Function to manually split the dataset into training and test sets\n",
    "\n",
    "    Args:\n",
    "    - predictors: DataFrame containing predictors\n",
    "    - y: target variable\n",
    "\n",
    "    Returns:\n",
    "    - X_train, X_test, y_train, y_test with the assurance they don't overlap\n",
    "    '''\n",
    "    # create a single dataframe\n",
    "    data = pd.concat([predictors, y], axis=1)\n",
    "\n",
    "    # shuffle indices with random_state set to ensure reproducibility\n",
    "    random_state = 42  # random state\n",
    "    indices = np.random.RandomState(random_state).permutation(data.index)\n",
    "\n",
    "    # calculate the split point\n",
    "    split = int(len(indices) * 0.8)  # we decide to use 80-20 split\n",
    "\n",
    "    # split the indices\n",
    "    train_indices = indices[:split]\n",
    "    test_indices = indices[split:]\n",
    "\n",
    "    # create the training and test sets\n",
    "    X_train = predictors.loc[train_indices]\n",
    "    X_test = predictors.loc[test_indices]\n",
    "    y_train = y.loc[train_indices]\n",
    "    y_test = y.loc[test_indices]\n",
    "\n",
    "    # check for overlapping samples in the split\n",
    "    train_samples_manual = set(train_indices)\n",
    "    test_samples_manual = set(test_indices)\n",
    "\n",
    "    overlapping_samples_manual = train_samples_manual.intersection(test_samples_manual)\n",
    "\n",
    "    if overlapping_samples_manual:\n",
    "        print(\"Error! There are some overlapping samples\")\n",
    "\n",
    "    else:\n",
    "        #print(\"No overlapping samples found between the manually split training and test sets.\")\n",
    "        return X_train, X_test, y_train, y_test\n"
   ],
   "metadata": {
    "collapsed": false
   }
  },
  {
   "cell_type": "markdown",
   "source": [
    "## functions related to the implementation of logistic regression model\n",
    "The hyper-parameters of the model are:\n",
    "- C: is the inverse of the regularization strength. It indicates whether the model should “trust” the training data or not.\n",
    "- penalty: is a regularization technique to avoid over-fitting. The penalty is applied over the coefficient of the features.\n",
    "- solver: is the algorithm used in the optimization problem.\n",
    "- class weight: is the weight associated with the classes.\n",
    "- maximum number of iteration: it is the maximum number of iterations used for the solver to converge.\n"
   ],
   "metadata": {
    "collapsed": false
   }
  },
  {
   "cell_type": "code",
   "execution_count": 28,
   "outputs": [],
   "source": [
    "# building the model\n",
    "def compute_model(X_train, y_train, X_test, y_test):\n",
    "    '''\n",
    "    Function to compute the logistic regression model\n",
    "    We use a GridSearch to find the best parameters for each model to avoid overfitting\n",
    "\n",
    "    Args:\n",
    "    - X_train: training test ot the predictors\n",
    "    - y_train: training test ot the target variable\n",
    "    - X: DataFrame containing predictors\n",
    "    - y: Pd.Series of the variable to predict\n",
    "\n",
    "    Returns:\n",
    "    - best_params: the parameters of the model with the best results\n",
    "    - evaluation_metrics: a dict of the evaluation metrics for the model with the best results\n",
    "    '''\n",
    "\n",
    "    # compute the model\n",
    "    model = linear_model.LogisticRegression()\n",
    "\n",
    "    # hyperparameters grid for tuning\n",
    "    param_grid = {\n",
    "        'C': [0.1, 1.0, 10.0],\n",
    "        'penalty': ['l1', 'l2'],\n",
    "        'solver': ['liblinear', 'saga'],\n",
    "        'class_weight': [None, 'balanced'],\n",
    "        'max_iter': [100, 200, 300, 500, 700, 1000]}\n",
    "\n",
    "    # we perform the GridSearchCV for hyperparameter tuning\n",
    "    grid_search = GridSearchCV(model, param_grid, cv=5, scoring='accuracy')\n",
    "    grid_search.fit(X_train, y_train)\n",
    "\n",
    "    # define the best hyperparameters\n",
    "    best_params = grid_search.best_params_\n",
    "    best_model = grid_search.best_estimator_\n",
    "\n",
    "    # predict on the test set using the best model\n",
    "    y_pred = best_model.predict(X_test)\n",
    "\n",
    "    # compute the most common classification evaluation metrics\n",
    "    evaluation_metrics = {}\n",
    "\n",
    "    evaluation_metrics['accuracy'] = accuracy_score(y_test, y_pred)\n",
    "    evaluation_metrics['precision'] = precision_score(y_test, y_pred, average='weighted')\n",
    "    evaluation_metrics['recall'] = recall_score(y_test, y_pred, average='weighted')\n",
    "    evaluation_metrics['F1-score'] = f1_score(y_test, y_pred, average='weighted')\n",
    "    evaluation_metrics['ROC AUC'] = roc_auc_score(y_test, y_pred)  # Only for binary classification\n",
    "\n",
    "    return best_params, evaluation_metrics"
   ],
   "metadata": {
    "collapsed": false
   }
  },
  {
   "cell_type": "markdown",
   "source": [
    "## functions related to feature selection process\n",
    "we use bivariate analysis to identify the most relevant predictors in the analysis and improve the regression model"
   ],
   "metadata": {
    "collapsed": false
   }
  },
  {
   "cell_type": "code",
   "execution_count": 29,
   "outputs": [],
   "source": [
    "def cr_calculate(preds, y):\n",
    "    '''\n",
    "    Function to compute the Cramer's V test between the predictors and the target variable\n",
    "\n",
    "    Args:\n",
    "    - preds: DataFrame of the predictors\n",
    "    - y: Pd.Series of the variable to predict\n",
    "\n",
    "    Returns:\n",
    "    - res: dictionary with relative Cramer's V value and p-value for each association\n",
    "    '''\n",
    "    var_preds = list(preds.columns)\n",
    "    res = []\n",
    "\n",
    "    for var in var_preds:\n",
    "        current_res ={}\n",
    "        current_res['x var'] = var\n",
    "        current_res['y var'] = y.name\n",
    "\n",
    "        # compute the contingency table and the chi2 test\n",
    "        current_data = np.array(pd.crosstab(preds[var], y))\n",
    "        chitest = chi2_contingency(current_data)\n",
    "\n",
    "        # compute the Cramer's V test\n",
    "        n = np.sum(current_data)\n",
    "        minDim = min(current_data.shape)-1\n",
    "        v_value = np.sqrt((chitest[0]/n) / minDim)\n",
    "\n",
    "        current_res['v-value'] = v_value\n",
    "        current_res['p-value'] = chitest[1]\n",
    "\n",
    "        if chitest[1] <= 0.01:\n",
    "            current_res['p-value sig'] = \"***\"\n",
    "\n",
    "        elif chitest[1] > 0.01 and chitest[1] <= 0.05:\n",
    "            current_res['p-value sig'] = \"**\"\n",
    "\n",
    "        elif chitest[1] > 0.05 and chitest[1] <= 0.1:\n",
    "            current_res['p-value sig'] = \"*\"\n",
    "\n",
    "        elif chitest[1] > 0.1:\n",
    "            current_res['p-value sig'] = \"no significant\"\n",
    "\n",
    "        res.append(current_res)\n",
    "\n",
    "    return res\n",
    "\n",
    "# -------------------------------------------------------------------------\n",
    "\n",
    "def preds_selection(bivariate_vals, threshold, significance):\n",
    "    '''\n",
    "    Function to parse all the bivariate analyses and select the most important predictors\n",
    "\n",
    "    Args:\n",
    "    - bivariate_vals: list of dictionaries explaining the relation between each predictor and the target variable\n",
    "    - threshold: float value for the feature selection\n",
    "    Returns:\n",
    "    - new_predictors: list of the most important predictors\n",
    "    '''\n",
    "    new_predictors = []\n",
    "\n",
    "    # we select the most important predictors for the y variable\n",
    "    for el in bivariate_vals:\n",
    "        # drop the not significant or not very significant cases\n",
    "        if el['p-value sig'] == significance:\n",
    "            # drop the cases with a weak relation\n",
    "            if el['v-value'] >= threshold:\n",
    "                new_predictors.append(el['x var'])\n",
    "\n",
    "    return new_predictors\n",
    "\n",
    "# ------------------------------------------------------------------\n",
    "def feature_sel(bivariate_vals, threshold, significance):\n",
    "    '''\n",
    "    Function to find the predictors satisfying a specific threshold and significance level in the bivariate analysis\n",
    "\n",
    "    Args:\n",
    "    - bivariate_vals: list of dictionaries explaining the relation between each predictor and the target variable\n",
    "    - threshold: float value for the feature selection\n",
    "    - significance: level of stastically significance of the bivariate analysis\n",
    "\n",
    "    Returns:\n",
    "    - new_predictors: list of predictors satisfying a specific threshold and significance level\n",
    "    - threshold: float number\n",
    "    - significance: level of significance of the threshold\n",
    "    '''\n",
    "    new_predictors = preds_selection(bivariate_vals, threshold, significance)\n",
    "\n",
    "    while significance != '' and len(new_predictors) == 0:\n",
    "        #print(f\"no predictors found with threshold {threshold} and significance {significance}\")\n",
    "\n",
    "        if threshold > 0.1:\n",
    "            threshold = round(threshold - 0.1, 1)\n",
    "        else:\n",
    "            threshold = 1.0\n",
    "            if significance == '***':\n",
    "                significance = '**'\n",
    "            elif significance == '**':\n",
    "                significance = '*'\n",
    "\n",
    "        new_predictors = preds_selection(bivariate_vals, threshold, significance)\n",
    "\n",
    "    return threshold, new_predictors, significance"
   ],
   "metadata": {
    "collapsed": false
   }
  },
  {
   "cell_type": "markdown",
   "source": [
    "## function to compute everything together"
   ],
   "metadata": {
    "collapsed": false
   }
  },
  {
   "cell_type": "code",
   "execution_count": 30,
   "outputs": [],
   "source": [
    "def compute_all(predictors, target):\n",
    "    '''\n",
    "    Function to perform a logistic regression model on the target variable, evaluate it and then improve it.\n",
    "\n",
    "    Args:\n",
    "    - predictors: DataFrame of the predictors\n",
    "    - target: pd.Series of the target variable\n",
    "\n",
    "    Returns:\n",
    "    - model_implementation: a dict with all the information considering the model computed\n",
    "    '''\n",
    "\n",
    "    model_features = {}\n",
    "    model_features['target'] = target.name\n",
    "\n",
    "    # we balance the dataset to have target variable with balanced classes\n",
    "    balance_X, balance_y = balance_dataset(predictors, target)\n",
    "\n",
    "    # find the variables among the predictors with balanced classes\n",
    "    selected_predictors = get_balanced_variables(balance_X)\n",
    "\n",
    "    X_train, X_test, y_train, y_test = split_dataset(balance_X[selected_predictors], balance_y)\n",
    "\n",
    "    initial_params, initial_eval_metrics = compute_model(X_train, y_train, X_test, y_test)\n",
    "    # -------------------------------------------\n",
    "\n",
    "    # apply a feature selection on the subset of predictors using bivariate analysis\n",
    "    bivariate_vals = cr_calculate(balance_X[selected_predictors], balance_y)\n",
    "    threshold, new_predictors, significance = feature_sel(bivariate_vals, 0.9, '***')\n",
    "\n",
    "    #print(f\"found {len(new_predictors)} preds with threshold {threshold}{significance}\")\n",
    "\n",
    "    model_features['threshold'] = threshold\n",
    "    model_features['signficance'] = significance\n",
    "    # ----------------------------------------------------------\n",
    "    # we refit the model with the subset of predictors statistically significant\n",
    "    new_X_train, new_X_test, new_y_train, new_y_test = split_dataset(balance_X[new_predictors], balance_y)\n",
    "    new_params, new_eval_metrics = compute_model(new_X_train, new_y_train, new_X_test, new_y_test)\n",
    "\n",
    "    # we keep the initial model\n",
    "    if initial_eval_metrics['accuracy'] > new_eval_metrics['accuracy']:\n",
    "        model_features['parameters'] = initial_params\n",
    "        model_features['evaluation metrics'] = initial_eval_metrics\n",
    "        model_features['predictors'] = selected_predictors\n",
    "\n",
    "    # we keep the model with a subset of predictors\n",
    "    elif initial_eval_metrics['accuracy'] <= new_eval_metrics['accuracy']:\n",
    "        model_features['parameters'] = new_params\n",
    "        model_features['evaluation metrics'] = new_eval_metrics\n",
    "        model_features['predictors'] = new_predictors\n",
    "\n",
    "    return model_features"
   ],
   "metadata": {
    "collapsed": false
   }
  },
  {
   "cell_type": "markdown",
   "source": [
    "# SPORT SESSION PREDICTION"
   ],
   "metadata": {
    "collapsed": false
   }
  },
  {
   "cell_type": "code",
   "execution_count": 31,
   "outputs": [
    {
     "data": {
      "text/plain": "   type of activity_Gymnastics and fitness  \\\n0                                        0   \n1                                        0   \n2                                        0   \n3                                        0   \n4                                        0   \n\n   type of activity_Jogging and running  \\\n0                                     0   \n1                                     0   \n2                                     0   \n3                                     0   \n4                                     0   \n\n   type of activity_Other indoor activities  \\\n0                                         0   \n1                                         0   \n2                                         0   \n3                                         0   \n4                                         0   \n\n   type of activity_Outdoor activities  type of activity_Walking  \\\n0                                    0                         1   \n1                                    0                         1   \n2                                    0                         1   \n3                                    0                         1   \n4                                    0                         1   \n\n   type of activity_Walking, Trekking, and hiking  location_indoor  \\\n0                                               0                0   \n1                                               0                0   \n2                                               0                0   \n3                                               0                0   \n4                                               0                0   \n\n   location_outdoor  company_alone  company_company  ...  \\\n0                 1              0                1  ...   \n1                 1              0                1  ...   \n2                 1              0                1  ...   \n3                 1              0                1  ...   \n4                 1              0                1  ...   \n\n   neighborhood_Bondone/Cadine/Sardagna/Sopramonte  \\\n0                                                0   \n1                                                0   \n2                                                0   \n3                                                0   \n4                                                0   \n\n   neighborhood_Center (from Cristo Re/San Martino to Fersina)  \\\n0                                                  0             \n1                                                  0             \n2                                                  0             \n3                                                  0             \n4                                                  0             \n\n   neighborhood_East hill (Mesiano/Povo/Oltrecastello/San Dona/Cognola/Villazzano)  \\\n0                                                  0                                 \n1                                                  0                                 \n2                                                  0                                 \n3                                                  0                                 \n4                                                  0                                 \n\n   neighborhood_Mattarello/Ravina/Romagnano  \\\n0                                         0   \n1                                         0   \n2                                         0   \n3                                         0   \n4                                         0   \n\n   neighborhood_North of Gardolo (Lavis, Meano, Spini)  \\\n0                                                  0     \n1                                                  0     \n2                                                  0     \n3                                                  0     \n4                                                  0     \n\n   neighborhood_Piedicastello/Vela  \\\n0                                0   \n1                                0   \n2                                0   \n3                                0   \n4                                0   \n\n   neighborhood_Trento North (from Gardolo to loc.Solteri/Via Brennero/Via Maccani)  \\\n0                                                  0                                  \n1                                                  0                                  \n2                                                  0                                  \n3                                                  0                                  \n4                                                  0                                  \n\n   neighborhood_Trento South (Bolghera/Clarina/San Bartolomeo/Madonna Bianca/Villazzano Tre)  \\\n0                                                  1                                           \n1                                                  1                                           \n2                                                  1                                           \n3                                                  1                                           \n4                                                  1                                           \n\n   sex_Female  sex_Male  \n0           1         0  \n1           1         0  \n2           1         0  \n3           1         0  \n4           1         0  \n\n[5 rows x 32 columns]",
      "text/html": "<div>\n<style scoped>\n    .dataframe tbody tr th:only-of-type {\n        vertical-align: middle;\n    }\n\n    .dataframe tbody tr th {\n        vertical-align: top;\n    }\n\n    .dataframe thead th {\n        text-align: right;\n    }\n</style>\n<table border=\"1\" class=\"dataframe\">\n  <thead>\n    <tr style=\"text-align: right;\">\n      <th></th>\n      <th>type of activity_Gymnastics and fitness</th>\n      <th>type of activity_Jogging and running</th>\n      <th>type of activity_Other indoor activities</th>\n      <th>type of activity_Outdoor activities</th>\n      <th>type of activity_Walking</th>\n      <th>type of activity_Walking, Trekking, and hiking</th>\n      <th>location_indoor</th>\n      <th>location_outdoor</th>\n      <th>company_alone</th>\n      <th>company_company</th>\n      <th>...</th>\n      <th>neighborhood_Bondone/Cadine/Sardagna/Sopramonte</th>\n      <th>neighborhood_Center (from Cristo Re/San Martino to Fersina)</th>\n      <th>neighborhood_East hill (Mesiano/Povo/Oltrecastello/San Dona/Cognola/Villazzano)</th>\n      <th>neighborhood_Mattarello/Ravina/Romagnano</th>\n      <th>neighborhood_North of Gardolo (Lavis, Meano, Spini)</th>\n      <th>neighborhood_Piedicastello/Vela</th>\n      <th>neighborhood_Trento North (from Gardolo to loc.Solteri/Via Brennero/Via Maccani)</th>\n      <th>neighborhood_Trento South (Bolghera/Clarina/San Bartolomeo/Madonna Bianca/Villazzano Tre)</th>\n      <th>sex_Female</th>\n      <th>sex_Male</th>\n    </tr>\n  </thead>\n  <tbody>\n    <tr>\n      <th>0</th>\n      <td>0</td>\n      <td>0</td>\n      <td>0</td>\n      <td>0</td>\n      <td>1</td>\n      <td>0</td>\n      <td>0</td>\n      <td>1</td>\n      <td>0</td>\n      <td>1</td>\n      <td>...</td>\n      <td>0</td>\n      <td>0</td>\n      <td>0</td>\n      <td>0</td>\n      <td>0</td>\n      <td>0</td>\n      <td>0</td>\n      <td>1</td>\n      <td>1</td>\n      <td>0</td>\n    </tr>\n    <tr>\n      <th>1</th>\n      <td>0</td>\n      <td>0</td>\n      <td>0</td>\n      <td>0</td>\n      <td>1</td>\n      <td>0</td>\n      <td>0</td>\n      <td>1</td>\n      <td>0</td>\n      <td>1</td>\n      <td>...</td>\n      <td>0</td>\n      <td>0</td>\n      <td>0</td>\n      <td>0</td>\n      <td>0</td>\n      <td>0</td>\n      <td>0</td>\n      <td>1</td>\n      <td>1</td>\n      <td>0</td>\n    </tr>\n    <tr>\n      <th>2</th>\n      <td>0</td>\n      <td>0</td>\n      <td>0</td>\n      <td>0</td>\n      <td>1</td>\n      <td>0</td>\n      <td>0</td>\n      <td>1</td>\n      <td>0</td>\n      <td>1</td>\n      <td>...</td>\n      <td>0</td>\n      <td>0</td>\n      <td>0</td>\n      <td>0</td>\n      <td>0</td>\n      <td>0</td>\n      <td>0</td>\n      <td>1</td>\n      <td>1</td>\n      <td>0</td>\n    </tr>\n    <tr>\n      <th>3</th>\n      <td>0</td>\n      <td>0</td>\n      <td>0</td>\n      <td>0</td>\n      <td>1</td>\n      <td>0</td>\n      <td>0</td>\n      <td>1</td>\n      <td>0</td>\n      <td>1</td>\n      <td>...</td>\n      <td>0</td>\n      <td>0</td>\n      <td>0</td>\n      <td>0</td>\n      <td>0</td>\n      <td>0</td>\n      <td>0</td>\n      <td>1</td>\n      <td>1</td>\n      <td>0</td>\n    </tr>\n    <tr>\n      <th>4</th>\n      <td>0</td>\n      <td>0</td>\n      <td>0</td>\n      <td>0</td>\n      <td>1</td>\n      <td>0</td>\n      <td>0</td>\n      <td>1</td>\n      <td>0</td>\n      <td>1</td>\n      <td>...</td>\n      <td>0</td>\n      <td>0</td>\n      <td>0</td>\n      <td>0</td>\n      <td>0</td>\n      <td>0</td>\n      <td>0</td>\n      <td>1</td>\n      <td>1</td>\n      <td>0</td>\n    </tr>\n  </tbody>\n</table>\n<p>5 rows × 32 columns</p>\n</div>"
     },
     "execution_count": 31,
     "metadata": {},
     "output_type": "execute_result"
    }
   ],
   "source": [
    "# one-hot label encoding: we transform all complete dataset into dummy variables\n",
    "encoded_dataset = pd.get_dummies(dataset, dtype=int)\n",
    "encoded_dataset.head()"
   ],
   "metadata": {
    "collapsed": false
   }
  },
  {
   "cell_type": "code",
   "execution_count": 32,
   "outputs": [],
   "source": [
    "# we predict the probability of doing the different sport activities\n",
    "possible_targets = ['type of activity_Gymnastics and fitness',\n",
    "                    'type of activity_Jogging and running',\n",
    "                    'type of activity_Other indoor activities',\n",
    "                    'type of activity_Outdoor activities',\n",
    "                    'type of activity_Walking',\n",
    "                    'type of activity_Walking, Trekking, and hiking']"
   ],
   "metadata": {
    "collapsed": false
   }
  },
  {
   "cell_type": "code",
   "execution_count": 33,
   "outputs": [],
   "source": [
    "res = [] # we store here all the results\n",
    "\n",
    "for el in possible_targets:\n",
    "    encoded_predictors = encoded_dataset.drop(el, axis=1) # create the X dataset\n",
    "    encoded_target = encoded_dataset[el] # create the y dataset\n",
    "\n",
    "    current_res = compute_all(encoded_predictors, encoded_target) # compute the model\n",
    "    res.append(current_res) # store the results"
   ],
   "metadata": {
    "collapsed": false
   }
  },
  {
   "cell_type": "code",
   "execution_count": 34,
   "outputs": [
    {
     "name": "stdout",
     "output_type": "stream",
     "text": [
      "{'target': 'type of activity_Gymnastics and fitness', 'threshold': 0.8, 'signficance': '***', 'parameters': {'C': 0.1, 'class_weight': None, 'max_iter': 100, 'penalty': 'l1', 'solver': 'liblinear'}, 'evaluation metrics': {'accuracy': 0.9150943396226415, 'precision': 0.9252658739252583, 'recall': 0.9150943396226415, 'F1-score': 0.9149128364740661, 'ROC AUC': 0.9184729283739185}, 'predictors': ['location_outdoor']}\n",
      "---------------------------------------------\n",
      "\n",
      "{'target': 'type of activity_Jogging and running', 'threshold': 0.1, 'signficance': '***', 'parameters': {'C': 0.1, 'class_weight': None, 'max_iter': 100, 'penalty': 'l1', 'solver': 'liblinear'}, 'evaluation metrics': {'accuracy': 0.6213592233009708, 'precision': 0.632631232516044, 'recall': 0.6213592233009708, 'F1-score': 0.6197864682575689, 'ROC AUC': 0.6268939393939393}, 'predictors': ['company_alone']}\n",
      "---------------------------------------------\n",
      "\n",
      "{'target': 'type of activity_Other indoor activities', 'threshold': 0.4, 'signficance': '***', 'parameters': {'C': 1.0, 'class_weight': None, 'max_iter': 100, 'penalty': 'l1', 'solver': 'liblinear'}, 'evaluation metrics': {'accuracy': 0.7417218543046358, 'precision': 0.7417639020288026, 'recall': 0.7417218543046358, 'F1-score': 0.7414492292662979, 'ROC AUC': 0.7407797681770284}, 'predictors': ['location_indoor', 'location_outdoor', 'company_alone', 'company_company', 'degree_BSc', 'sex_Female', 'sex_Male']}\n",
      "---------------------------------------------\n",
      "\n",
      "{'target': 'type of activity_Outdoor activities', 'threshold': 0.4, 'signficance': '***', 'parameters': {'C': 10.0, 'class_weight': 'balanced', 'max_iter': 100, 'penalty': 'l2', 'solver': 'liblinear'}, 'evaluation metrics': {'accuracy': 0.7808641975308642, 'precision': 0.7815078880924542, 'recall': 0.7808641975308642, 'F1-score': 0.7810001028345224, 'ROC AUC': 0.7810457516339868}, 'predictors': ['company_alone', 'company_company', 'degree_BSc', 'degree_MSc', 'department_Engineering and Applied Sciences', 'sex_Female', 'sex_Male']}\n",
      "---------------------------------------------\n",
      "\n",
      "{'target': 'type of activity_Walking', 'threshold': 0.6, 'signficance': '***', 'parameters': {'C': 0.1, 'class_weight': None, 'max_iter': 100, 'penalty': 'l1', 'solver': 'saga'}, 'evaluation metrics': {'accuracy': 0.8045454545454546, 'precision': 0.8328160809778457, 'recall': 0.8045454545454546, 'F1-score': 0.8018923360673608, 'ROC AUC': 0.8105590062111802}, 'predictors': ['location_indoor', 'location_outdoor']}\n",
      "---------------------------------------------\n",
      "\n",
      "{'target': 'type of activity_Walking, Trekking, and hiking', 'threshold': 0.3, 'signficance': '***', 'parameters': {'C': 1.0, 'class_weight': 'balanced', 'max_iter': 100, 'penalty': 'l1', 'solver': 'liblinear'}, 'evaluation metrics': {'accuracy': 0.7601246105919003, 'precision': 0.7652445418985016, 'recall': 0.7601246105919003, 'F1-score': 0.7551513619043695, 'ROC AUC': 0.7465820696157774}, 'predictors': ['location_indoor', 'location_outdoor', 'company_alone', 'company_company', 'sex_Female', 'sex_Male']}\n",
      "---------------------------------------------\n",
      "\n"
     ]
    }
   ],
   "source": [
    "for el in res:\n",
    "    print(el)\n",
    "    print(\"---------------------------------------------\\n\")"
   ],
   "metadata": {
    "collapsed": false
   }
  },
  {
   "cell_type": "markdown",
   "source": [
    "# SPORT AND STEP ACTIVITY PREDICTION\n",
    "the main idea is to predict separately the probabilities that a user will fall into one category of sport activity and step activity based on their socio-demographic features\n",
    "To build the new regression model we use some the functions implemented before and new functions"
   ],
   "metadata": {
    "collapsed": false
   }
  },
  {
   "cell_type": "code",
   "execution_count": 35,
   "outputs": [],
   "source": [
    "# both target variables are ordinal, so we can recode into numerical values\n",
    "step_codes, step_uniques = pd.factorize(activity_dataset['step activity'])\n",
    "sport_codes, sport_uniques = pd.factorize(activity_dataset['sport activity'])\n",
    "\n",
    "num_data = {'sex': activity_dataset['w1_A01'],\n",
    "            'department': activity_dataset['w1_A04UNITN'],\n",
    "            'degree': activity_dataset['degree'],\n",
    "            'neighborhood': activity_dataset['w1_A10UNITN'],\n",
    "            'step num': step_codes,\n",
    "            'sport num': sport_codes}\n",
    "\n",
    "num_dataset= pd.DataFrame(num_data)"
   ],
   "metadata": {
    "collapsed": false
   }
  },
  {
   "cell_type": "code",
   "execution_count": 36,
   "outputs": [],
   "source": [
    "# now we build the ordinal probit regression model\n",
    "def ordinal_probit_regression(X_train, y_train, X_test, y_test):\n",
    "    '''\n",
    "    Function to perform an ordinal probit regression model on the target variable, evaluate it and then improve it.\n",
    "\n",
    "    Args:\n",
    "    - X_train: training set of predictors\n",
    "    - y_train: training set of target variable\n",
    "    - X_test: test set of predictors\n",
    "    - y_test: test set of target variable\n",
    "\n",
    "    Returns:\n",
    "    - evaluation_metrics: a dict with the results of the evaluation metrics on the model computed\n",
    "    '''\n",
    "\n",
    "    # we fit the model to our data\n",
    "    model = sm.OLS(y_train, X_train)\n",
    "\n",
    "    ordinal_probit_result = model.fit(method='pinv')\n",
    "\n",
    "    # then predict on the test data\n",
    "    predictions = ordinal_probit_result.predict(X_test)\n",
    "\n",
    "    # compute some evaluation metrics\n",
    "    evaluation_metrics = {}\n",
    "    evaluation_metrics['mae'] = mean_absolute_error(y_test, predictions)\n",
    "    evaluation_metrics['mse'] = mean_squared_error(y_test, predictions)\n",
    "\n",
    "    return evaluation_metrics\n"
   ],
   "metadata": {
    "collapsed": false
   }
  },
  {
   "cell_type": "code",
   "execution_count": 37,
   "outputs": [],
   "source": [
    "def compute_all_activity(predictors, target):\n",
    "    '''\n",
    "    Function to wrap everything together.\n",
    "\n",
    "    Args:\n",
    "    - predictors: DataFrame of the predictors\n",
    "    - target: target variable\n",
    "\n",
    "    Returns:\n",
    "    - model_feature: a dict with all the information considering the model computed on predictors and target\n",
    "    '''\n",
    "\n",
    "    model_features = {}\n",
    "    model_features['target'] = target.name\n",
    "\n",
    "    X_train, X_test, y_train, y_test = split_dataset(predictors, target)\n",
    "\n",
    "    # results considering all the predictors\n",
    "    model_eval_metrics = ordinal_probit_regression(X_train, y_train, X_test, y_test)\n",
    "    # ---------------------------------------------------------------------------------------------\n",
    "    # feature selection through bivariate analysis\n",
    "    bivariate_vals = cr_calculate(predictors, target)\n",
    "    threshold, new_predictors, significance = feature_sel(bivariate_vals, 0.6, '***')\n",
    "\n",
    "    model_features['threshold'] = threshold\n",
    "    model_features['significance'] = significance\n",
    "    #print(f\"found {len(new_predictors)} predictor s with threshold {threshold}{significance}\")\n",
    "\n",
    "    # if we find a subset of predictors that influence the target, we refit the model\n",
    "    new_X_train, new_X_test, new_y_train, new_y_test = split_dataset(predictors[new_predictors], target)\n",
    "    new_model_eval_metrics = ordinal_probit_regression(new_X_train, new_y_train, new_X_test, new_y_test)\n",
    "\n",
    "    # we keep the initial model\n",
    "    if model_eval_metrics['mae'] > new_model_eval_metrics['mae']:\n",
    "        model_features['evaluation metrics'] = model_eval_metrics\n",
    "        model_features['predictors'] = 'all predictors'\n",
    "\n",
    "    # we keep the model with a subset of predictors\n",
    "    elif model_eval_metrics['mae'] <= new_model_eval_metrics['mae']:\n",
    "        model_features['evaluation metrics'] = new_model_eval_metrics\n",
    "        model_features['predictors'] = new_predictors\n",
    "\n",
    "    return model_features"
   ],
   "metadata": {
    "collapsed": false
   }
  },
  {
   "cell_type": "code",
   "execution_count": 38,
   "outputs": [
    {
     "name": "stdout",
     "output_type": "stream",
     "text": [
      "{'target': 'sport num', 'threshold': 0.1, 'significance': '*', 'evaluation metrics': {'mae': 1.0622727272727273, 'mse': 1.650384814049587}, 'predictors': ['department_Information Engineering and Computer Science', 'department_Mathematics', 'department_Psychology and Cognitive Science']}\n",
      "-----------------------------------------------------\n",
      "{'target': 'step num', 'threshold': 0.1, 'significance': '**', 'evaluation metrics': {'mae': 1.0876036112842054, 'mse': 1.6347026336700776}, 'predictors': 'all predictors'}\n"
     ]
    }
   ],
   "source": [
    "# create dummy variables for the set of predictors through one-hot label encoding\n",
    "activity_dataset_dum = pd.get_dummies(num_dataset[['sex', 'department', 'degree', 'neighborhood']], dtype=int)\n",
    "\n",
    "# compute the model using sport activity as target variable\n",
    "model_sport = compute_all_activity(activity_dataset_dum, num_dataset['sport num'])\n",
    "print(model_sport)\n",
    "print(\"-----------------------------------------------------\")\n",
    "# compute the model using sport activity as target variable\n",
    "model_step = compute_all_activity(activity_dataset_dum, num_dataset['step num'])\n",
    "print(model_step)"
   ],
   "metadata": {
    "collapsed": false
   }
  },
  {
   "cell_type": "code",
   "execution_count": 38,
   "outputs": [],
   "source": [],
   "metadata": {
    "collapsed": false
   }
  }
 ],
 "metadata": {
  "kernelspec": {
   "display_name": "Python 3",
   "language": "python",
   "name": "python3"
  },
  "language_info": {
   "codemirror_mode": {
    "name": "ipython",
    "version": 2
   },
   "file_extension": ".py",
   "mimetype": "text/x-python",
   "name": "python",
   "nbconvert_exporter": "python",
   "pygments_lexer": "ipython2",
   "version": "2.7.6"
  }
 },
 "nbformat": 4,
 "nbformat_minor": 0
}
